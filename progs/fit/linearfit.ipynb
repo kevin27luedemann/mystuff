{
 "metadata": {
  "name": "linearfit"
 },
 "nbformat": 3,
 "nbformat_minor": 0,
 "worksheets": [
  {
   "cells": [
    {
     "cell_type": "code",
     "collapsed": false,
     "input": [
      "import maabara as ma\n",
      "import uncertainties as uc\n",
      "import matplotlib as mp\n",
      "import math\n",
      "import numpy as np\n",
      "import matplotlib.pyplot as plt\n",
      "mp.rcParams['text.usetex']=True\n",
      "mp.rcParams['text.latex.unicode']=True\n",
      "plt.rc('text', usetex=True)\n",
      "plt.rc('font', family='serif')\n",
      "fig, ax = plt.subplots(figsize=(12,6))\n",
      "ax.ticklabel_format(style='sci', axis='both', scilimits=(-3,3))\n",
      "colors=['b','g','r','c','m','y','k']\n",
      "fitcolors=['g','b','g','r','c','m','y','k']\n",
      "datensaetze = np.genfromtxt('linearindex.txt',dtype='str')\n",
      "print datensaetze\n",
      "ax.set_xlabel(datensaetze[0,0],fontsize=16)\n",
      "ax.set_ylabel(datensaetze[0,1],fontsize=16)\n",
      "for i in range(len(datensaetze)-1):\n",
      "    data=np.loadtxt(datensaetze[i+1,0])\n",
      "    x1=data[:,0]\n",
      "    y1=data[:,1]\n",
      "    y_err1=data[:,2]\n",
      "    m,b,tex=ma.linear_fit(x1,y1,y_err1)\n",
      "    ax.errorbar(x1, y1, y_err1,ls='None',marker='+',color=colors[i+1], label=datensaetze[i+1,1])\n",
      "    x = np.linspace(0,5)\n",
      "    ax.plot(x, m.n*x+b.n,\"r-\", label =\"$\" + tex + \"$\",color=colors[i+1])\n",
      "    plt.legend(loc=2)\n",
      "plt.savefig(\"pl.pdf\", transparent=True, format=\"pdf\", bbox_inches='tight')"
     ],
     "language": "python",
     "metadata": {},
     "outputs": [
      {
       "output_type": "stream",
       "stream": "stdout",
       "text": [
        "[['$\\\\varphi$' '$\\\\pi$']\n",
        " ['1_3g.dat' '3g']\n",
        " ['1_4g.dat' '4g']]\n",
        "results of linear_fit:\n",
        "   chi squared =  2.10847457627\n",
        "   degrees of freedom =  2\n",
        "   reduced chi squared =  1.05423728814\n",
        "results of linear_fit:\n",
        "   chi squared =  0.972203389831\n",
        "   degrees of freedom =  2\n",
        "   reduced chi squared =  0.486101694915\n"
       ]
      }
     ],
     "prompt_number": 23
    },
    {
     "cell_type": "code",
     "collapsed": false,
     "input": [],
     "language": "python",
     "metadata": {},
     "outputs": []
    }
   ],
   "metadata": {}
  }
 ]
}